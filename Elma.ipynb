{
  "cells": [
    {
      "cell_type": "code",
      "execution_count": 1,
      "id": "a5fdec66",
      "metadata": {
        "id": "a5fdec66"
      },
      "outputs": [],
      "source": [
        "import pandas as pd"
      ]
    },
    {
      "cell_type": "markdown",
      "id": "b22170d4",
      "metadata": {
        "id": "b22170d4"
      },
      "source": [
        "# 1. Провести эксплоративный анализ данных для обучения"
      ]
    },
    {
      "cell_type": "code",
      "execution_count": 2,
      "id": "aa990b86",
      "metadata": {
        "id": "aa990b86"
      },
      "outputs": [],
      "source": [
        "df = pd.read_csv('dataset_intent_detection.csv')"
      ]
    },
    {
      "cell_type": "code",
      "execution_count": 3,
      "id": "5863d7af",
      "metadata": {
        "id": "5863d7af"
      },
      "outputs": [],
      "source": [
        "df.columns = ['intent', 'snippet']"
      ]
    },
    {
      "cell_type": "code",
      "execution_count": 4,
      "id": "c824d2b7",
      "metadata": {
        "colab": {
          "base_uri": "https://localhost:8080/",
          "height": 206
        },
        "id": "c824d2b7",
        "outputId": "90e4b75a-0446-499c-f6da-d0aee3d2ac6c"
      },
      "outputs": [
        {
          "output_type": "execute_result",
          "data": {
            "text/plain": [
              "              intent                   snippet\n",
              "0  Positive-reaction      - а я о чем и говорю\n",
              "1  Positive-reaction                   - бомба\n",
              "2  Positive-reaction                 - вай-вай\n",
              "3  Positive-reaction                     - вау\n",
              "4  Positive-reaction  - великолепный результат"
            ],
            "text/html": [
              "\n",
              "  <div id=\"df-677dbaa6-37ca-4c75-883e-286d1610b2ce\">\n",
              "    <div class=\"colab-df-container\">\n",
              "      <div>\n",
              "<style scoped>\n",
              "    .dataframe tbody tr th:only-of-type {\n",
              "        vertical-align: middle;\n",
              "    }\n",
              "\n",
              "    .dataframe tbody tr th {\n",
              "        vertical-align: top;\n",
              "    }\n",
              "\n",
              "    .dataframe thead th {\n",
              "        text-align: right;\n",
              "    }\n",
              "</style>\n",
              "<table border=\"1\" class=\"dataframe\">\n",
              "  <thead>\n",
              "    <tr style=\"text-align: right;\">\n",
              "      <th></th>\n",
              "      <th>intent</th>\n",
              "      <th>snippet</th>\n",
              "    </tr>\n",
              "  </thead>\n",
              "  <tbody>\n",
              "    <tr>\n",
              "      <th>0</th>\n",
              "      <td>Positive-reaction</td>\n",
              "      <td>- а я о чем и говорю</td>\n",
              "    </tr>\n",
              "    <tr>\n",
              "      <th>1</th>\n",
              "      <td>Positive-reaction</td>\n",
              "      <td>- бомба</td>\n",
              "    </tr>\n",
              "    <tr>\n",
              "      <th>2</th>\n",
              "      <td>Positive-reaction</td>\n",
              "      <td>- вай-вай</td>\n",
              "    </tr>\n",
              "    <tr>\n",
              "      <th>3</th>\n",
              "      <td>Positive-reaction</td>\n",
              "      <td>- вау</td>\n",
              "    </tr>\n",
              "    <tr>\n",
              "      <th>4</th>\n",
              "      <td>Positive-reaction</td>\n",
              "      <td>- великолепный результат</td>\n",
              "    </tr>\n",
              "  </tbody>\n",
              "</table>\n",
              "</div>\n",
              "      <button class=\"colab-df-convert\" onclick=\"convertToInteractive('df-677dbaa6-37ca-4c75-883e-286d1610b2ce')\"\n",
              "              title=\"Convert this dataframe to an interactive table.\"\n",
              "              style=\"display:none;\">\n",
              "        \n",
              "  <svg xmlns=\"http://www.w3.org/2000/svg\" height=\"24px\"viewBox=\"0 0 24 24\"\n",
              "       width=\"24px\">\n",
              "    <path d=\"M0 0h24v24H0V0z\" fill=\"none\"/>\n",
              "    <path d=\"M18.56 5.44l.94 2.06.94-2.06 2.06-.94-2.06-.94-.94-2.06-.94 2.06-2.06.94zm-11 1L8.5 8.5l.94-2.06 2.06-.94-2.06-.94L8.5 2.5l-.94 2.06-2.06.94zm10 10l.94 2.06.94-2.06 2.06-.94-2.06-.94-.94-2.06-.94 2.06-2.06.94z\"/><path d=\"M17.41 7.96l-1.37-1.37c-.4-.4-.92-.59-1.43-.59-.52 0-1.04.2-1.43.59L10.3 9.45l-7.72 7.72c-.78.78-.78 2.05 0 2.83L4 21.41c.39.39.9.59 1.41.59.51 0 1.02-.2 1.41-.59l7.78-7.78 2.81-2.81c.8-.78.8-2.07 0-2.86zM5.41 20L4 18.59l7.72-7.72 1.47 1.35L5.41 20z\"/>\n",
              "  </svg>\n",
              "      </button>\n",
              "      \n",
              "  <style>\n",
              "    .colab-df-container {\n",
              "      display:flex;\n",
              "      flex-wrap:wrap;\n",
              "      gap: 12px;\n",
              "    }\n",
              "\n",
              "    .colab-df-convert {\n",
              "      background-color: #E8F0FE;\n",
              "      border: none;\n",
              "      border-radius: 50%;\n",
              "      cursor: pointer;\n",
              "      display: none;\n",
              "      fill: #1967D2;\n",
              "      height: 32px;\n",
              "      padding: 0 0 0 0;\n",
              "      width: 32px;\n",
              "    }\n",
              "\n",
              "    .colab-df-convert:hover {\n",
              "      background-color: #E2EBFA;\n",
              "      box-shadow: 0px 1px 2px rgba(60, 64, 67, 0.3), 0px 1px 3px 1px rgba(60, 64, 67, 0.15);\n",
              "      fill: #174EA6;\n",
              "    }\n",
              "\n",
              "    [theme=dark] .colab-df-convert {\n",
              "      background-color: #3B4455;\n",
              "      fill: #D2E3FC;\n",
              "    }\n",
              "\n",
              "    [theme=dark] .colab-df-convert:hover {\n",
              "      background-color: #434B5C;\n",
              "      box-shadow: 0px 1px 3px 1px rgba(0, 0, 0, 0.15);\n",
              "      filter: drop-shadow(0px 1px 2px rgba(0, 0, 0, 0.3));\n",
              "      fill: #FFFFFF;\n",
              "    }\n",
              "  </style>\n",
              "\n",
              "      <script>\n",
              "        const buttonEl =\n",
              "          document.querySelector('#df-677dbaa6-37ca-4c75-883e-286d1610b2ce button.colab-df-convert');\n",
              "        buttonEl.style.display =\n",
              "          google.colab.kernel.accessAllowed ? 'block' : 'none';\n",
              "\n",
              "        async function convertToInteractive(key) {\n",
              "          const element = document.querySelector('#df-677dbaa6-37ca-4c75-883e-286d1610b2ce');\n",
              "          const dataTable =\n",
              "            await google.colab.kernel.invokeFunction('convertToInteractive',\n",
              "                                                     [key], {});\n",
              "          if (!dataTable) return;\n",
              "\n",
              "          const docLinkHtml = 'Like what you see? Visit the ' +\n",
              "            '<a target=\"_blank\" href=https://colab.research.google.com/notebooks/data_table.ipynb>data table notebook</a>'\n",
              "            + ' to learn more about interactive tables.';\n",
              "          element.innerHTML = '';\n",
              "          dataTable['output_type'] = 'display_data';\n",
              "          await google.colab.output.renderOutput(dataTable, element);\n",
              "          const docLink = document.createElement('div');\n",
              "          docLink.innerHTML = docLinkHtml;\n",
              "          element.appendChild(docLink);\n",
              "        }\n",
              "      </script>\n",
              "    </div>\n",
              "  </div>\n",
              "  "
            ]
          },
          "metadata": {},
          "execution_count": 4
        }
      ],
      "source": [
        "df.head()"
      ]
    },
    {
      "cell_type": "code",
      "execution_count": 5,
      "id": "ca27ea00",
      "metadata": {
        "id": "ca27ea00",
        "outputId": "0f71af2b-6deb-463b-8df5-e8a814783d33",
        "colab": {
          "base_uri": "https://localhost:8080/"
        }
      },
      "outputs": [
        {
          "output_type": "execute_result",
          "data": {
            "text/plain": [
              "(2089, 2)"
            ]
          },
          "metadata": {},
          "execution_count": 5
        }
      ],
      "source": [
        "df.shape"
      ]
    },
    {
      "cell_type": "markdown",
      "id": "dfa8b007",
      "metadata": {
        "id": "dfa8b007"
      },
      "source": [
        "## Доля классов"
      ]
    },
    {
      "cell_type": "code",
      "execution_count": 6,
      "id": "205b698c",
      "metadata": {
        "id": "205b698c",
        "outputId": "5f76f3fe-cfd6-45c5-f759-5e379fc3a5d8",
        "colab": {
          "base_uri": "https://localhost:8080/"
        }
      },
      "outputs": [
        {
          "output_type": "execute_result",
          "data": {
            "text/plain": [
              "Small_talk_food                        6.223073\n",
              "Another_joke                           5.265677\n",
              "Whoops                                 5.026328\n",
              "Smalltalk_answer                       4.834849\n",
              "Small_talk_boss                        4.356151\n",
              "Small_talk_fired                       3.973193\n",
              "Small_talk_you_are_right               3.877453\n",
              "Sick_of_listeting                      3.446625\n",
              "Small_talk_creators                    3.350886\n",
              "Messing_up                             2.776448\n",
              "Small_talk_relationships               2.680708\n",
              "Sorry                                  2.489229\n",
              "Small_talk_danger                      2.345620\n",
              "Small_talk_haha                        2.249880\n",
              "Bad_joke                               2.202011\n",
              "Hello                                  2.106271\n",
              "Small_talk_what-what                   2.058401\n",
              "Tell_joke                              2.010531\n",
              "Small_talk_ugly                        1.962662\n",
              "Compliment                             1.962662\n",
              "Finish                                 1.914792\n",
              "Small_talk_boring                      1.866922\n",
              "Small_talk_user_angry                  1.723313\n",
              "Small_talk_good_mood                   1.531833\n",
              "Small_talk_love                        1.483964\n",
              "Small_talk_residence                   1.436094\n",
              "Small_talk_age                         1.436094\n",
              "Small_talk_work                        1.436094\n",
              "Negative_reaction                      1.388224\n",
              "You_are                                1.388224\n",
              "Small_talk_user_sad                    1.388224\n",
              "Positive-reaction                      1.244615\n",
              "Small_talkt_wait                       1.196745\n",
              "Thank_you                              1.148875\n",
              "Small_talk_chatbot                     1.148875\n",
              "Small_talk_technology                  1.101005\n",
              "Small_talk_lets_talk                   1.053135\n",
              "Name                                   1.005266\n",
              "Small_talk_hobby                       0.957396\n",
              "I_can_help                             0.909526\n",
              "Small_talk_be_clever                   0.765917\n",
              "Small_talk_film                        0.765917\n",
              "smalltalk_greetings_nice_to_see_you    0.718047\n",
              "Small_talk_bad_mood                    0.670177\n",
              "Small_talk_music                       0.670177\n",
              "Small_talk_life                        0.670177\n",
              "Small_talk_joke                        0.622307\n",
              "Small_talk_busy                        0.622307\n",
              "Dont_understand                        0.622307\n",
              "Question                               0.526568\n",
              "Tell_about_you                         0.478698\n",
              "smalltalk_user_will_be_back            0.382958\n",
              "Small_talk_hungry                      0.287219\n",
              "AreYouHere                             0.239349\n",
              "Name: intent, dtype: float64"
            ]
          },
          "metadata": {},
          "execution_count": 6
        }
      ],
      "source": [
        "df.intent.value_counts(normalize=True) * 100"
      ]
    },
    {
      "cell_type": "code",
      "execution_count": 7,
      "id": "8b5d52ce",
      "metadata": {
        "id": "8b5d52ce",
        "outputId": "8c8fc740-4777-408d-dd8c-a66bde72cfd1",
        "colab": {
          "base_uri": "https://localhost:8080/"
        }
      },
      "outputs": [
        {
          "output_type": "execute_result",
          "data": {
            "text/plain": [
              "Small_talk_food                        130\n",
              "Another_joke                           110\n",
              "Whoops                                 105\n",
              "Smalltalk_answer                       101\n",
              "Small_talk_boss                         91\n",
              "Small_talk_fired                        83\n",
              "Small_talk_you_are_right                81\n",
              "Sick_of_listeting                       72\n",
              "Small_talk_creators                     70\n",
              "Messing_up                              58\n",
              "Small_talk_relationships                56\n",
              "Sorry                                   52\n",
              "Small_talk_danger                       49\n",
              "Small_talk_haha                         47\n",
              "Bad_joke                                46\n",
              "Hello                                   44\n",
              "Small_talk_what-what                    43\n",
              "Tell_joke                               42\n",
              "Small_talk_ugly                         41\n",
              "Compliment                              41\n",
              "Finish                                  40\n",
              "Small_talk_boring                       39\n",
              "Small_talk_user_angry                   36\n",
              "Small_talk_good_mood                    32\n",
              "Small_talk_love                         31\n",
              "Small_talk_residence                    30\n",
              "Small_talk_age                          30\n",
              "Small_talk_work                         30\n",
              "Negative_reaction                       29\n",
              "You_are                                 29\n",
              "Small_talk_user_sad                     29\n",
              "Positive-reaction                       26\n",
              "Small_talkt_wait                        25\n",
              "Thank_you                               24\n",
              "Small_talk_chatbot                      24\n",
              "Small_talk_technology                   23\n",
              "Small_talk_lets_talk                    22\n",
              "Name                                    21\n",
              "Small_talk_hobby                        20\n",
              "I_can_help                              19\n",
              "Small_talk_be_clever                    16\n",
              "Small_talk_film                         16\n",
              "smalltalk_greetings_nice_to_see_you     15\n",
              "Small_talk_bad_mood                     14\n",
              "Small_talk_music                        14\n",
              "Small_talk_life                         14\n",
              "Small_talk_joke                         13\n",
              "Small_talk_busy                         13\n",
              "Dont_understand                         13\n",
              "Question                                11\n",
              "Tell_about_you                          10\n",
              "smalltalk_user_will_be_back              8\n",
              "Small_talk_hungry                        6\n",
              "AreYouHere                               5\n",
              "Name: intent, dtype: int64"
            ]
          },
          "metadata": {},
          "execution_count": 7
        }
      ],
      "source": [
        "df.intent.value_counts()"
      ]
    },
    {
      "cell_type": "markdown",
      "id": "5d1d6085",
      "metadata": {
        "id": "5d1d6085"
      },
      "source": [
        "## Оценить длину фразы"
      ]
    },
    {
      "cell_type": "code",
      "execution_count": 8,
      "id": "f358b4c6",
      "metadata": {
        "id": "f358b4c6",
        "outputId": "7d4a9388-3093-4009-ddf2-53d40822f563",
        "colab": {
          "base_uri": "https://localhost:8080/"
        }
      },
      "outputs": [
        {
          "output_type": "execute_result",
          "data": {
            "text/plain": [
              "0                     - а я о чем и говорю\n",
              "1                                  - бомба\n",
              "2                                - вай-вай\n",
              "3                                    - вау\n",
              "4                 - великолепный результат\n",
              "                       ...                \n",
              "2084                - чудесно увидеть тебя\n",
              "2085    - это чудо видеть тебя здесь снова\n",
              "2086             - хорошо что ты снова тут\n",
              "2087                 - приятно видеть тебя\n",
              "2088     - приятно снова видеть тебя здесь\n",
              "Name: snippet, Length: 2089, dtype: object"
            ]
          },
          "metadata": {},
          "execution_count": 8
        }
      ],
      "source": [
        "df.snippet"
      ]
    },
    {
      "cell_type": "code",
      "execution_count": 9,
      "id": "f85c1cc3",
      "metadata": {
        "id": "f85c1cc3"
      },
      "outputs": [],
      "source": [
        "snippets = [word for word in df.snippet]\n",
        "snippets.sort(key=len, reverse=True)"
      ]
    },
    {
      "cell_type": "code",
      "execution_count": 10,
      "id": "89a9a64c",
      "metadata": {
        "id": "89a9a64c"
      },
      "outputs": [],
      "source": [
        "snippets = [snippet + ' (Длина:' + str(len(snippet)) + ')' for snippet in snippets]"
      ]
    },
    {
      "cell_type": "code",
      "execution_count": 11,
      "id": "6958cdbb",
      "metadata": {
        "id": "6958cdbb",
        "outputId": "e29df477-eab2-445d-f5a8-2334e3de0bc8",
        "colab": {
          "base_uri": "https://localhost:8080/"
        }
      },
      "outputs": [
        {
          "output_type": "execute_result",
          "data": {
            "text/plain": [
              "['- можешь приступать к поиску новой работы так как ты тут больше не работаешь (Длина:76)',\n",
              " '- если собираешься рассказывать шутки - рассказывай их правильно (Длина:64)',\n",
              " '- можешь приступать к поиску новой работы потому что ты уволена (Длина:63)',\n",
              " '- это было восхитительно благодаря тому что ты меня рассмешил (Длина:61)',\n",
              " '- Я никогда не видел такого отвратительного человека, как ты. (Длина:61)',\n",
              " '- ты сейчас состоишь с кем-то в романтических отношениях? (Длина:57)',\n",
              " '- можешь приступать к поиску новой работы. Ты уволена! (Длина:54)',\n",
              " '- тебе пора искать другую работу потому что ты уволена (Длина:54)',\n",
              " '- какое у тебя мнение насчет искуственного интеллекта? (Длина:54)',\n",
              " '- придется подыскать другую работу потому что уволена (Длина:53)']"
            ]
          },
          "metadata": {},
          "execution_count": 11
        }
      ],
      "source": [
        "snippets[:10]"
      ]
    },
    {
      "cell_type": "markdown",
      "id": "b2aaaa9f",
      "metadata": {
        "id": "b2aaaa9f"
      },
      "source": [
        "## Частотный анализ слов для каждого класса"
      ]
    },
    {
      "cell_type": "code",
      "execution_count": 12,
      "id": "6dca66cd",
      "metadata": {
        "id": "6dca66cd",
        "colab": {
          "base_uri": "https://localhost:8080/"
        },
        "outputId": "91120430-c793-420f-bdee-a4a73f8981b1"
      },
      "outputs": [
        {
          "output_type": "stream",
          "name": "stderr",
          "text": [
            "[nltk_data] Downloading package punkt to /root/nltk_data...\n",
            "[nltk_data]   Unzipping tokenizers/punkt.zip.\n",
            "[nltk_data] Downloading package stopwords to /root/nltk_data...\n",
            "[nltk_data]   Unzipping corpora/stopwords.zip.\n"
          ]
        },
        {
          "output_type": "execute_result",
          "data": {
            "text/plain": [
              "True"
            ]
          },
          "metadata": {},
          "execution_count": 12
        }
      ],
      "source": [
        "import string\n",
        "from nltk import word_tokenize, Text, download\n",
        "from nltk.probability import FreqDist\n",
        "from nltk.corpus import stopwords\n",
        "download('punkt')\n",
        "download('stopwords')"
      ]
    },
    {
      "cell_type": "code",
      "execution_count": 13,
      "id": "7472a71f",
      "metadata": {
        "id": "7472a71f",
        "outputId": "05ca2ce4-26b3-4042-c0aa-305c11f39056",
        "colab": {
          "base_uri": "https://localhost:8080/",
          "height": 424
        }
      },
      "outputs": [
        {
          "output_type": "execute_result",
          "data": {
            "text/plain": [
              "                                   intent                             snippet\n",
              "0                       Positive-reaction                - а я о чем и говорю\n",
              "1                       Positive-reaction                             - бомба\n",
              "2                       Positive-reaction                           - вай-вай\n",
              "3                       Positive-reaction                               - вау\n",
              "4                       Positive-reaction            - великолепный результат\n",
              "...                                   ...                                 ...\n",
              "2084  smalltalk_greetings_nice_to_see_you              - чудесно увидеть тебя\n",
              "2085  smalltalk_greetings_nice_to_see_you  - это чудо видеть тебя здесь снова\n",
              "2086  smalltalk_greetings_nice_to_see_you           - хорошо что ты снова тут\n",
              "2087  smalltalk_greetings_nice_to_see_you               - приятно видеть тебя\n",
              "2088  smalltalk_greetings_nice_to_see_you   - приятно снова видеть тебя здесь\n",
              "\n",
              "[2089 rows x 2 columns]"
            ],
            "text/html": [
              "\n",
              "  <div id=\"df-a3187bbe-99a7-437e-829e-65dc1d43f5fa\">\n",
              "    <div class=\"colab-df-container\">\n",
              "      <div>\n",
              "<style scoped>\n",
              "    .dataframe tbody tr th:only-of-type {\n",
              "        vertical-align: middle;\n",
              "    }\n",
              "\n",
              "    .dataframe tbody tr th {\n",
              "        vertical-align: top;\n",
              "    }\n",
              "\n",
              "    .dataframe thead th {\n",
              "        text-align: right;\n",
              "    }\n",
              "</style>\n",
              "<table border=\"1\" class=\"dataframe\">\n",
              "  <thead>\n",
              "    <tr style=\"text-align: right;\">\n",
              "      <th></th>\n",
              "      <th>intent</th>\n",
              "      <th>snippet</th>\n",
              "    </tr>\n",
              "  </thead>\n",
              "  <tbody>\n",
              "    <tr>\n",
              "      <th>0</th>\n",
              "      <td>Positive-reaction</td>\n",
              "      <td>- а я о чем и говорю</td>\n",
              "    </tr>\n",
              "    <tr>\n",
              "      <th>1</th>\n",
              "      <td>Positive-reaction</td>\n",
              "      <td>- бомба</td>\n",
              "    </tr>\n",
              "    <tr>\n",
              "      <th>2</th>\n",
              "      <td>Positive-reaction</td>\n",
              "      <td>- вай-вай</td>\n",
              "    </tr>\n",
              "    <tr>\n",
              "      <th>3</th>\n",
              "      <td>Positive-reaction</td>\n",
              "      <td>- вау</td>\n",
              "    </tr>\n",
              "    <tr>\n",
              "      <th>4</th>\n",
              "      <td>Positive-reaction</td>\n",
              "      <td>- великолепный результат</td>\n",
              "    </tr>\n",
              "    <tr>\n",
              "      <th>...</th>\n",
              "      <td>...</td>\n",
              "      <td>...</td>\n",
              "    </tr>\n",
              "    <tr>\n",
              "      <th>2084</th>\n",
              "      <td>smalltalk_greetings_nice_to_see_you</td>\n",
              "      <td>- чудесно увидеть тебя</td>\n",
              "    </tr>\n",
              "    <tr>\n",
              "      <th>2085</th>\n",
              "      <td>smalltalk_greetings_nice_to_see_you</td>\n",
              "      <td>- это чудо видеть тебя здесь снова</td>\n",
              "    </tr>\n",
              "    <tr>\n",
              "      <th>2086</th>\n",
              "      <td>smalltalk_greetings_nice_to_see_you</td>\n",
              "      <td>- хорошо что ты снова тут</td>\n",
              "    </tr>\n",
              "    <tr>\n",
              "      <th>2087</th>\n",
              "      <td>smalltalk_greetings_nice_to_see_you</td>\n",
              "      <td>- приятно видеть тебя</td>\n",
              "    </tr>\n",
              "    <tr>\n",
              "      <th>2088</th>\n",
              "      <td>smalltalk_greetings_nice_to_see_you</td>\n",
              "      <td>- приятно снова видеть тебя здесь</td>\n",
              "    </tr>\n",
              "  </tbody>\n",
              "</table>\n",
              "<p>2089 rows × 2 columns</p>\n",
              "</div>\n",
              "      <button class=\"colab-df-convert\" onclick=\"convertToInteractive('df-a3187bbe-99a7-437e-829e-65dc1d43f5fa')\"\n",
              "              title=\"Convert this dataframe to an interactive table.\"\n",
              "              style=\"display:none;\">\n",
              "        \n",
              "  <svg xmlns=\"http://www.w3.org/2000/svg\" height=\"24px\"viewBox=\"0 0 24 24\"\n",
              "       width=\"24px\">\n",
              "    <path d=\"M0 0h24v24H0V0z\" fill=\"none\"/>\n",
              "    <path d=\"M18.56 5.44l.94 2.06.94-2.06 2.06-.94-2.06-.94-.94-2.06-.94 2.06-2.06.94zm-11 1L8.5 8.5l.94-2.06 2.06-.94-2.06-.94L8.5 2.5l-.94 2.06-2.06.94zm10 10l.94 2.06.94-2.06 2.06-.94-2.06-.94-.94-2.06-.94 2.06-2.06.94z\"/><path d=\"M17.41 7.96l-1.37-1.37c-.4-.4-.92-.59-1.43-.59-.52 0-1.04.2-1.43.59L10.3 9.45l-7.72 7.72c-.78.78-.78 2.05 0 2.83L4 21.41c.39.39.9.59 1.41.59.51 0 1.02-.2 1.41-.59l7.78-7.78 2.81-2.81c.8-.78.8-2.07 0-2.86zM5.41 20L4 18.59l7.72-7.72 1.47 1.35L5.41 20z\"/>\n",
              "  </svg>\n",
              "      </button>\n",
              "      \n",
              "  <style>\n",
              "    .colab-df-container {\n",
              "      display:flex;\n",
              "      flex-wrap:wrap;\n",
              "      gap: 12px;\n",
              "    }\n",
              "\n",
              "    .colab-df-convert {\n",
              "      background-color: #E8F0FE;\n",
              "      border: none;\n",
              "      border-radius: 50%;\n",
              "      cursor: pointer;\n",
              "      display: none;\n",
              "      fill: #1967D2;\n",
              "      height: 32px;\n",
              "      padding: 0 0 0 0;\n",
              "      width: 32px;\n",
              "    }\n",
              "\n",
              "    .colab-df-convert:hover {\n",
              "      background-color: #E2EBFA;\n",
              "      box-shadow: 0px 1px 2px rgba(60, 64, 67, 0.3), 0px 1px 3px 1px rgba(60, 64, 67, 0.15);\n",
              "      fill: #174EA6;\n",
              "    }\n",
              "\n",
              "    [theme=dark] .colab-df-convert {\n",
              "      background-color: #3B4455;\n",
              "      fill: #D2E3FC;\n",
              "    }\n",
              "\n",
              "    [theme=dark] .colab-df-convert:hover {\n",
              "      background-color: #434B5C;\n",
              "      box-shadow: 0px 1px 3px 1px rgba(0, 0, 0, 0.15);\n",
              "      filter: drop-shadow(0px 1px 2px rgba(0, 0, 0, 0.3));\n",
              "      fill: #FFFFFF;\n",
              "    }\n",
              "  </style>\n",
              "\n",
              "      <script>\n",
              "        const buttonEl =\n",
              "          document.querySelector('#df-a3187bbe-99a7-437e-829e-65dc1d43f5fa button.colab-df-convert');\n",
              "        buttonEl.style.display =\n",
              "          google.colab.kernel.accessAllowed ? 'block' : 'none';\n",
              "\n",
              "        async function convertToInteractive(key) {\n",
              "          const element = document.querySelector('#df-a3187bbe-99a7-437e-829e-65dc1d43f5fa');\n",
              "          const dataTable =\n",
              "            await google.colab.kernel.invokeFunction('convertToInteractive',\n",
              "                                                     [key], {});\n",
              "          if (!dataTable) return;\n",
              "\n",
              "          const docLinkHtml = 'Like what you see? Visit the ' +\n",
              "            '<a target=\"_blank\" href=https://colab.research.google.com/notebooks/data_table.ipynb>data table notebook</a>'\n",
              "            + ' to learn more about interactive tables.';\n",
              "          element.innerHTML = '';\n",
              "          dataTable['output_type'] = 'display_data';\n",
              "          await google.colab.output.renderOutput(dataTable, element);\n",
              "          const docLink = document.createElement('div');\n",
              "          docLink.innerHTML = docLinkHtml;\n",
              "          element.appendChild(docLink);\n",
              "        }\n",
              "      </script>\n",
              "    </div>\n",
              "  </div>\n",
              "  "
            ]
          },
          "metadata": {},
          "execution_count": 13
        }
      ],
      "source": [
        "df"
      ]
    },
    {
      "cell_type": "code",
      "execution_count": 14,
      "id": "865c6eb7",
      "metadata": {
        "id": "865c6eb7"
      },
      "outputs": [],
      "source": [
        "words_for_class = dict()"
      ]
    },
    {
      "cell_type": "code",
      "execution_count": 15,
      "id": "92ffcda6",
      "metadata": {
        "id": "92ffcda6"
      },
      "outputs": [],
      "source": [
        "intents = pd.unique(df.intent)\n",
        "for intent in intents:\n",
        "    text_in_intent = [x for x in df.snippet[df.intent == intent]]\n",
        "    \n",
        "    text = ''\n",
        "    for word in text_in_intent:\n",
        "        text += word\n",
        "        \n",
        "    text = text.lower()\n",
        "    text = \"\".join([ch for ch in text if ch not in string.punctuation])\n",
        "    text_tokens = word_tokenize(text)\n",
        "    text = Text(text_tokens)\n",
        "    fdist = FreqDist(text)\n",
        "    \n",
        "    russian_stopwords = stopwords.words(\"russian\")\n",
        "    for word in russian_stopwords:\n",
        "        if word in fdist.keys():\n",
        "            fdist.pop(word)\n",
        "    \n",
        "    words_for_class[intent] = fdist"
      ]
    },
    {
      "cell_type": "code",
      "execution_count": 16,
      "id": "ef1d305c",
      "metadata": {
        "id": "ef1d305c",
        "outputId": "07d570ed-920a-4bac-a025-d1a6175b06e7",
        "colab": {
          "base_uri": "https://localhost:8080/"
        }
      },
      "outputs": [
        {
          "output_type": "execute_result",
          "data": {
            "text/plain": [
              "{'Positive-reaction': FreqDist({'бомба': 2, 'воу': 2, 'говорю': 1, 'вайвай': 1, 'вау': 1, 'великолепный': 1, 'результат': 1, 'верно': 1, 'это': 1, 'понимаю': 1, ...}),\n",
              " 'Negative_reaction': FreqDist({'отсюда': 4, 'нравится': 2, 'умеешь': 2, 'искать': 2, 'бред': 1, 'согласна': 1, 'согласен': 1, 'протестую': 1, 'вали': 1, 'вон': 1, ...}),\n",
              " 'Hello': FreqDist({'утро': 6, 'бот': 5, 'вечера': 4, 'доброго': 4, 'желаю': 3, 'алоха': 2, 'привет': 2, 'тебе': 2, 'йо': 2, 'чувак': 2, ...}),\n",
              " 'Finish': FreqDist({'давай': 4, 'позже': 4, 'пока': 3, 'конец': 2, 'хочу': 2, 'общаться': 2, 'чувак': 2, 'честь': 2, 'имею': 2, 'адиос': 1, ...}),\n",
              " 'Smalltalk_answer': FreqDist({'почему': 4, 'ладно': 3, 'говори': 3, 'хочу': 3, 'очень': 3, 'точнее': 3, 'это': 2, 'тебе': 2, 'верю': 2, 'нравится': 2, ...}),\n",
              " 'AreYouHere': FreqDist({'ау': 2, 'работаешь': 1}),\n",
              " 'Tell_about_you': FreqDist({'твоя': 4, 'биография': 2, 'история': 2, 'семейная': 1, 'родословная': 1, 'такое': 1, 'рассказ': 1, 'жизни': 1, 'интро': 1, 'вообще': 1, ...}),\n",
              " 'Small_talk_chatbot': FreqDist({'бот': 9, 'робот': 4, 'чат': 3, 'ботом': 3, 'человек': 3, 'чатбот': 3, 'кажется': 3, 'живой': 2, 'человеком': 2, 'говорю': 2, ...}),\n",
              " 'Small_talk_boss': FreqDist({'имя': 12, 'тебе': 10, 'тобой': 9, 'твоего': 9, 'твой': 7, 'кого': 7, 'кому': 6, 'зовут': 6, 'назови': 6, 'начальник': 5, ...}),\n",
              " 'Small_talk_fired': FreqDist({'работы': 19, 'уволена': 14, 'уволить': 8, 'уволен': 7, 'тебе': 6, 'другую': 6, 'работу': 6, 'пора': 5, 'можешь': 5, 'боюсь': 4, ...}),\n",
              " 'Small_talk_hungry': FreqDist({'еду': 2, 'го': 1, 'обед': 1, 'голодная': 1, 'заказать': 1, 'какую': 1, 'любишь': 1, 'кушать': 1, 'подано': 1, 'могу': 1, ...}),\n",
              " 'Small_talk_hobby': FreqDist({'любишь': 7, 'тебе': 3, 'какую': 2, 'расскажи': 2, 'хобби': 2, 'делать': 2, 'нравится': 2, 'гонконг': 1, 'любимая': 1, 'страна': 1, ...}),\n",
              " 'Small_talk_haha': FreqDist({'ржу': 5, 'смешно': 4, 'могу': 3, 'смеяться': 3, 'смешная': 3, 'смеха': 3, 'ха': 3, 'хаха': 3, 'ахах': 2, 'шутка': 2, ...}),\n",
              " 'Small_talk_be_clever': FreqDist({'тебе': 4, 'учиться': 4, 'обучать': 2, 'будь': 2, 'всему': 2, 'учись': 1, 'нужно': 1, 'учеба': 1, 'помешает': 1, 'умнее': 1, ...}),\n",
              " 'Small_talk_boring': FreqDist({'скучная': 11, 'такая': 6, 'скучно': 4, 'это': 4, 'менее': 3, 'господи': 2, 'унылая': 2, 'скучной': 2, 'весело': 2, 'устал': 2, ...}),\n",
              " 'Small_talk_busy': FreqDist({'деловая': 3, 'дел': 3, 'занята': 2, 'такая': 2, 'дела': 2, 'занятая': 1, 'загрузка': 1, 'большая': 1, 'загружена': 1, 'делами': 1, ...}),\n",
              " 'Small_talk_residence': FreqDist({'живешь': 6, 'далеко': 4, 'дом': 2, 'обитаешь': 2, 'твой': 2, 'рядом': 2, 'твое': 2, 'местоположение': 2, 'квартирка': 1, 'ночуешь': 1, ...}),\n",
              " 'Small_talk_user_angry': FreqDist({'ярости': 4, 'настроение': 3, 'зол': 2, 'разозлила': 2, 'злюсь': 2, 'испортила': 2, 'злости': 2, 'чувствую': 2, 'начать': 2, 'заново': 2, ...}),\n",
              " 'Small_talk_joke': FreqDist({'шутка': 5, 'шучу': 4, 'это': 4, 'хотел': 2, 'несерьезно': 1, 'развеселить': 1, 'веселю': 1, 'прости': 1, 'лишь': 1, 'ради': 1, ...}),\n",
              " 'Small_talk_user_sad': FreqDist({'дела': 7, 'плохо': 5, 'ужасно': 4, 'тоска': 3, 'очень': 3, 'грустно': 2, 'печаль': 2, 'настроение': 2, 'идут': 2, 'грусть': 1, ...}),\n",
              " 'Small_talkt_wait': FreqDist({'вернусь': 15, 'скоро': 4, 'ждем': 2, 'можешь': 2, 'повисеть': 2, 'волнуйся': 2, 'позже': 2, 'попозже': 2, 'кого': 1, 'удержи': 1, ...}),\n",
              " 'Small_talk_bad_mood': FreqDist({'грусти': 2, 'скучно': 2, 'печалься': 1, 'переживай': 1, 'плачь': 1, 'давай': 1, 'соплей': 1, 'грустить': 1, 'печалиться': 1, 'обид': 1, ...}),\n",
              " 'Small_talk_good_mood': FreqDist({'сегодня': 16, 'настроении': 6, 'настроение': 4, 'хорошем': 4, 'кажется': 3, 'счастлив': 3, 'хорошее': 2, 'держишься': 2, 'позитиве': 2, 'добрая': 2, ...}),\n",
              " 'Small_talk_creators': FreqDist({'твой': 13, 'компания': 7, 'создатель': 5, 'разработчики': 4, 'автор': 3, 'твои': 3, 'имена': 3, 'делал': 3, 'разработчик': 3, 'создала': 3, ...}),\n",
              " 'Small_talk_music': FreqDist({'любишь': 5, 'любимая': 4, 'музыка': 3, 'слушать': 2, 'исполнитель': 2, 'музыкальная': 1, 'группа': 1, 'юль': 1, 'какую': 1, 'музыку': 1, ...}),\n",
              " 'Small_talk_film': FreqDist({'фильмы': 4, 'любишь': 3, 'любимый': 2, 'фильм': 2, 'какие': 2, 'кино': 2, 'фильмов': 2, 'люблю': 2, 'комедии': 2, 'нравятся': 2, ...}),\n",
              " 'Question': FreqDist({'вопрос': 6, 'ответ': 3, 'ответь': 2, 'узнать': 1, 'просить': 1, 'вопросик': 1, 'имеется': 1, 'маленький': 1, 'подскажи': 1, 'дай': 1, ...}),\n",
              " 'Small_talk_love': FreqDist({'любовь': 19, 'можешь': 6, 'такое': 4, 'знаешь': 3, 'влюбиться': 3, 'тебе': 2, 'значит': 2, 'когото': 2, 'любишь': 2, 'испытать': 2, ...}),\n",
              " 'Small_talk_relationships': FreqDist({'тебе': 4, 'давай': 4, 'отношениях': 4, 'встречаешься': 4, 'твой': 4, 'хочу': 3, 'состоишь': 3, 'кемто': 3, 'кемлибо': 3, 'относишься': 3, ...}),\n",
              " 'Small_talk_work': FreqDist({'работа': 7, 'тебе': 3, 'твоя': 3, 'работу': 3, 'одновременно': 3, 'работаешь': 3, 'нравится': 2, 'любишь': 2, 'общаться': 2, 'сколько': 2, ...}),\n",
              " 'Small_talk_lets_talk': FreqDist({'мной': 5, 'можешь': 4, 'давай': 3, 'поговорим': 3, 'расскажи': 2, 'разговор': 2, 'поговорить': 2, 'поболтать': 2, 'новости': 2, 'чтонибудь': 1, ...}),\n",
              " 'Small_talk_age': FreqDist({'сколько': 5, 'родилась': 4, 'возраст': 4, 'рождения': 3, 'день': 3, 'моложе': 3, 'тебе': 2, 'лет': 2, 'живешь': 2, 'старше': 2, ...}),\n",
              " 'Small_talk_food': FreqDist({'любишь': 46, 'ешь': 15, 'тебе': 14, 'когданибудь': 11, 'кушать': 9, 'какую': 9, 'еду': 8, 'обед': 6, 'ела': 6, 'любимый': 5, ...}),\n",
              " 'Name': FreqDist({'имя': 9, 'какое': 4, 'твое': 3, 'зовут': 3, 'хочешь': 3, 'тебе': 3, 'скажешь': 2, 'твои': 2, 'друзья': 2, 'можешь': 1, ...}),\n",
              " 'Small_talk_life': FreqDist({'жизни': 8, 'знаешь': 5, 'смысл': 5, 'смысле': 3, 'жизнь': 3, 'цель': 2, 'вселенной': 2, 'заключается': 1, 'наша': 1, 'клянусь': 1, ...}),\n",
              " 'Sorry': FreqDist({'жаль': 8, 'прости': 7, 'прошу': 5, 'прощения': 5, 'очень': 4, 'хотел': 3, 'это': 3, 'виноват': 3, 'упс': 3, 'извини': 2, ...}),\n",
              " 'Small_talk_technology': FreqDist({'насчет': 7, 'думаешь': 6, 'мнение': 5, 'искуственного': 5, 'тебе': 5, 'интеллекта': 4, 'твое': 4, 'нравятся': 3, 'технологии': 3, 'ботах': 3, ...}),\n",
              " 'Small_talk_danger': FreqDist({'людей': 7, 'опасна': 6, 'можешь': 5, 'мир': 4, 'стоит': 4, 'опасность': 3, 'нам': 3, 'бояться': 3, 'хочешь': 3, 'способна': 2, ...}),\n",
              " 'Small_talk_what-what': FreqDist({'это': 13, 'можешь': 10, 'объяснить': 7, 'сказать': 3, 'значит': 3, 'чтото': 2, 'хочешь': 2, 'имеешь': 2, 'ввиду': 2, 'получше': 2, ...}),\n",
              " 'Small_talk_you_are_right': FreqDist({'это': 30, 'правда': 12, 'точно': 11, 'верно': 7, 'прав': 4, 'заявление': 4, 'ответ': 4, 'права': 3, 'утверждение': 3, 'абсолютно': 3, ...}),\n",
              " 'Tell_joke': FreqDist({'шутку': 14, 'шутки': 8, 'шутка': 6, 'хочу': 6, 'анекдот': 4, 'услышать': 3, 'знаешь': 3, 'шуткой': 3, 'пошутишь': 2, 'настроение': 2, ...}),\n",
              " 'Another_joke': FreqDist({'шутку': 42, 'шутки': 31, 'шутка': 16, 'другую': 13, 'знаешь': 11, 'какиенибудь': 9, 'шуткой': 8, 'расскажите': 8, 'шуток': 7, 'одну': 7, ...}),\n",
              " 'Sick_of_listeting': FreqDist({'хватит': 12, 'тебе': 10, 'заткнись': 9, 'сказал': 7, 'пожалуйста': 6, 'слушать': 4, 'заткнуться': 4, 'время': 4, 'могу': 3, 'шума': 3, ...}),\n",
              " 'You_are': FreqDist({'это': 6, 'работа': 3, 'молодец': 3, 'ответ': 3, 'отличная': 2, 'хороший': 2, 'замечательный': 2, 'потрясающая': 2, 'просто': 2, 'великолепно': 1, ...}),\n",
              " 'Messing_up': FreqDist({'сири': 9, 'прекрати': 5, 'намного': 5, 'тупой': 4, 'таким': 4, 'справляется': 4, 'умнее': 3, 'обычно': 3, 'google': 3, 'говоришь': 3, ...}),\n",
              " 'Bad_joke': FreqDist({'это': 6, 'шутка': 6, 'хватит': 5, 'шутки': 4, 'чувство': 3, 'юмора': 3, 'смешно': 3, 'шутить': 3, 'смешным': 3, 'прекрати': 3, ...}),\n",
              " 'Small_talk_ugly': FreqDist({'уродливый': 4, 'лицо': 4, 'можешь': 4, 'урод': 3, 'супер': 3, 'уродлив': 3, 'красотой': 3, 'таким': 2, 'смотреть': 2, 'твоим': 2, ...}),\n",
              " 'Whoops': FreqDist({'простите': 13, 'это': 13, 'прости': 12, 'жаль': 12, 'упс': 9, 'прошу': 7, 'прощения': 7, 'очень': 7, 'извинения': 5, 'извини': 4, ...}),\n",
              " 'Dont_understand': FreqDist({'понимаю': 3, 'хочу': 2, 'понять': 2, 'никакого': 2, 'смысла': 2, 'запутался': 1, 'заблудился': 1, 'замешательстве': 1, 'начать': 1, 'понимать': 1, ...}),\n",
              " 'I_can_help': FreqDist({'помочь': 2, 'страшного': 2, 'любое': 2, 'время': 2, 'обращайтесь': 2, 'пожалуйста': 2, 'рад': 1, 'пустяк': 1, 'счастлив': 1, 'проблем': 1, ...}),\n",
              " 'Thank_you': FreqDist({'спасибо': 8, 'благодарен': 3, 'тебе': 3, 'бесконечно': 2, 'большое': 2, 'рад': 2, 'отблагодарить': 2, 'благодарю': 1, 'здорово': 1, 'помогла': 1, ...}),\n",
              " 'Compliment': FreqDist({'бот': 4, 'очень': 4, 'детка': 3, 'умная': 3, 'просто': 2, 'крута': 2, 'умной': 2, 'девочка': 2, 'достаточно': 2, 'умный': 2, ...}),\n",
              " 'smalltalk_user_will_be_back': FreqDist({'скоро': 5, 'вернусь': 5, 'буду': 3, 'снова': 2, 'тебе': 2, 'минут': 2, 'очень': 1, 'минуту': 1, '5': 1, 'обещаю': 1, ...}),\n",
              " 'smalltalk_greetings_nice_to_see_you': FreqDist({'снова': 8, 'видеть': 8, 'увидеть': 4, 'рад': 3, 'здорово': 3, 'рада': 3, 'тебе': 2, 'приятно': 2, 'радостно': 1, 'чудесно': 1, ...})}"
            ]
          },
          "metadata": {},
          "execution_count": 16
        }
      ],
      "source": [
        "words_for_class"
      ]
    },
    {
      "cell_type": "code",
      "execution_count": 17,
      "id": "a5e55760",
      "metadata": {
        "id": "a5e55760",
        "outputId": "4766e115-25ce-46c3-a318-d08ede51a694",
        "colab": {
          "base_uri": "https://localhost:8080/",
          "height": 1000
        }
      },
      "outputs": [
        {
          "output_type": "display_data",
          "data": {
            "text/plain": [
              "<Figure size 432x288 with 1 Axes>"
            ],
            "image/png": "[encoded data removed]"
          },
          "metadata": {
            "needs_background": "light"
          }
        },
        {
          "output_type": "display_data",
          "data": {
            "text/plain": [
              "<Figure size 432x288 with 1 Axes>"
            ],
            "image/png": "[encoded data removed]"
          },
          "metadata": {
            "needs_background": "light"
          }
        },
        {
          "output_type": "display_data",
          "data": {
            "text/plain": [
              "<Figure size 432x288 with 1 Axes>"
            ],
            "image/png": "[encoded data removed]"
          },
          "metadata": {
            "needs_background": "light"
          }
        },
        {
          "output_type": "display_data",
          "data": {
            "text/plain": [
              "<Figure size 432x288 with 1 Axes>"
            ],
            "image/png": "[encoded data removed]"
          },
          "metadata": {
            "needs_background": "light"
          }
        },
        {
          "output_type": "display_data",
          "data": {
            "text/plain": [
              "<Figure size 432x288 with 1 Axes>"
            ],
            "image/png": "[encoded data removed]"
          },
          "metadata": {
            "needs_background": "light"
          }
        }
      ],
      "source": [
        "for intent in intents[:5]:\n",
        "    words_for_class[intent].plot(15,cumulative=False, title=intent)"
      ]
    },
    {
      "cell_type": "markdown",
      "id": "69833f89",
      "metadata": {
        "id": "69833f89"
      },
      "source": [
        "# 2. Разработать свою модель для решения задачи"
      ]
    },
    {
      "cell_type": "markdown",
      "id": "2f573a9c",
      "metadata": {
        "id": "2f573a9c"
      },
      "source": [
        "## SVM with spacy"
      ]
    },
    {
      "cell_type": "code",
      "execution_count": 18,
      "id": "f7ad3217",
      "metadata": {
        "id": "f7ad3217"
      },
      "outputs": [],
      "source": [
        "import spacy\n",
        "import numpy as np\n",
        "import string\n",
        "import pickle"
      ]
    },
    {
      "cell_type": "code",
      "source": [
        "!python -m spacy download ru_core_news_lg"
      ],
      "metadata": {
        "colab": {
          "base_uri": "https://localhost:8080/"
        },
        "id": "REblFiYO7wHf",
        "outputId": "79765d1c-1f07-497c-d9d1-ca0a8a61ffe5"
      },
      "id": "REblFiYO7wHf",
      "execution_count": 19,
      "outputs": [
        {
          "output_type": "stream",
          "name": "stdout",
          "text": [
            "2022-09-12 08:04:19.583845: E tensorflow/stream_executor/cuda/cuda_driver.cc:271] failed call to cuInit: CUDA_ERROR_NO_DEVICE: no CUDA-capable device is detected\n",
            "Looking in indexes: https://pypi.org/simple, https://us-python.pkg.dev/colab-wheels/public/simple/\n",
            "Collecting ru-core-news-lg==3.4.0\n",
            "  Downloading https://github.com/explosion/spacy-models/releases/download/ru_core_news_lg-3.4.0/ru_core_news_lg-3.4.0-py3-none-any.whl (513.4 MB)\n",
            "\u001b[K     |████████████████████████████████| 513.4 MB 14 kB/s \n",
            "\u001b[?25hRequirement already satisfied: spacy<3.5.0,>=3.4.0 in /usr/local/lib/python3.7/dist-packages (from ru-core-news-lg==3.4.0) (3.4.1)\n",
            "Collecting pymorphy2>=0.9\n",
            "  Downloading pymorphy2-0.9.1-py3-none-any.whl (55 kB)\n",
            "\u001b[K     |████████████████████████████████| 55 kB 3.2 MB/s \n",
            "\u001b[?25hCollecting dawg-python>=0.7.1\n",
            "  Downloading DAWG_Python-0.7.2-py2.py3-none-any.whl (11 kB)\n",
            "Collecting docopt>=0.6\n",
            "  Downloading docopt-0.6.2.tar.gz (25 kB)\n",
            "Collecting pymorphy2-dicts-ru<3.0,>=2.4\n",
            "  Downloading pymorphy2_dicts_ru-2.4.417127.4579844-py2.py3-none-any.whl (8.2 MB)\n",
            "\u001b[K     |████████████████████████████████| 8.2 MB 15.7 MB/s \n",
            "\u001b[?25hRequirement already satisfied: thinc<8.2.0,>=8.1.0 in /usr/local/lib/python3.7/dist-packages (from spacy<3.5.0,>=3.4.0->ru-core-news-lg==3.4.0) (8.1.0)\n",
            "Requirement already satisfied: srsly<3.0.0,>=2.4.3 in /usr/local/lib/python3.7/dist-packages (from spacy<3.5.0,>=3.4.0->ru-core-news-lg==3.4.0) (2.4.4)\n",
            "Requirement already satisfied: preshed<3.1.0,>=3.0.2 in /usr/local/lib/python3.7/dist-packages (from spacy<3.5.0,>=3.4.0->ru-core-news-lg==3.4.0) (3.0.7)\n",
            "Requirement already satisfied: jinja2 in /usr/local/lib/python3.7/dist-packages (from spacy<3.5.0,>=3.4.0->ru-core-news-lg==3.4.0) (2.11.3)\n",
            "Requirement already satisfied: wasabi<1.1.0,>=0.9.1 in /usr/local/lib/python3.7/dist-packages (from spacy<3.5.0,>=3.4.0->ru-core-news-lg==3.4.0) (0.10.1)\n",
            "Requirement already satisfied: packaging>=20.0 in /usr/local/lib/python3.7/dist-packages (from spacy<3.5.0,>=3.4.0->ru-core-news-lg==3.4.0) (21.3)\n",
            "Requirement already satisfied: pydantic!=1.8,!=1.8.1,<1.10.0,>=1.7.4 in /usr/local/lib/python3.7/dist-packages (from spacy<3.5.0,>=3.4.0->ru-core-news-lg==3.4.0) (1.9.2)\n",
            "Requirement already satisfied: typing-extensions<4.2.0,>=3.7.4 in /usr/local/lib/python3.7/dist-packages (from spacy<3.5.0,>=3.4.0->ru-core-news-lg==3.4.0) (4.1.1)\n",
            "Requirement already satisfied: numpy>=1.15.0 in /usr/local/lib/python3.7/dist-packages (from spacy<3.5.0,>=3.4.0->ru-core-news-lg==3.4.0) (1.21.6)\n",
            "Requirement already satisfied: cymem<2.1.0,>=2.0.2 in /usr/local/lib/python3.7/dist-packages (from spacy<3.5.0,>=3.4.0->ru-core-news-lg==3.4.0) (2.0.6)\n",
            "Requirement already satisfied: typer<0.5.0,>=0.3.0 in /usr/local/lib/python3.7/dist-packages (from spacy<3.5.0,>=3.4.0->ru-core-news-lg==3.4.0) (0.4.2)\n",
            "Requirement already satisfied: langcodes<4.0.0,>=3.2.0 in /usr/local/lib/python3.7/dist-packages (from spacy<3.5.0,>=3.4.0->ru-core-news-lg==3.4.0) (3.3.0)\n",
            "Requirement already satisfied: pathy>=0.3.5 in /usr/local/lib/python3.7/dist-packages (from spacy<3.5.0,>=3.4.0->ru-core-news-lg==3.4.0) (0.6.2)\n",
            "Requirement already satisfied: murmurhash<1.1.0,>=0.28.0 in /usr/local/lib/python3.7/dist-packages (from spacy<3.5.0,>=3.4.0->ru-core-news-lg==3.4.0) (1.0.8)\n",
            "Requirement already satisfied: spacy-legacy<3.1.0,>=3.0.9 in /usr/local/lib/python3.7/dist-packages (from spacy<3.5.0,>=3.4.0->ru-core-news-lg==3.4.0) (3.0.10)\n",
            "Requirement already satisfied: requests<3.0.0,>=2.13.0 in /usr/local/lib/python3.7/dist-packages (from spacy<3.5.0,>=3.4.0->ru-core-news-lg==3.4.0) (2.23.0)\n",
            "Requirement already satisfied: tqdm<5.0.0,>=4.38.0 in /usr/local/lib/python3.7/dist-packages (from spacy<3.5.0,>=3.4.0->ru-core-news-lg==3.4.0) (4.64.0)\n",
            "Requirement already satisfied: setuptools in /usr/local/lib/python3.7/dist-packages (from spacy<3.5.0,>=3.4.0->ru-core-news-lg==3.4.0) (57.4.0)\n",
            "Requirement already satisfied: catalogue<2.1.0,>=2.0.6 in /usr/local/lib/python3.7/dist-packages (from spacy<3.5.0,>=3.4.0->ru-core-news-lg==3.4.0) (2.0.8)\n",
            "Requirement already satisfied: spacy-loggers<2.0.0,>=1.0.0 in /usr/local/lib/python3.7/dist-packages (from spacy<3.5.0,>=3.4.0->ru-core-news-lg==3.4.0) (1.0.3)\n",
            "Requirement already satisfied: zipp>=0.5 in /usr/local/lib/python3.7/dist-packages (from catalogue<2.1.0,>=2.0.6->spacy<3.5.0,>=3.4.0->ru-core-news-lg==3.4.0) (3.8.1)\n",
            "Requirement already satisfied: pyparsing!=3.0.5,>=2.0.2 in /usr/local/lib/python3.7/dist-packages (from packaging>=20.0->spacy<3.5.0,>=3.4.0->ru-core-news-lg==3.4.0) (3.0.9)\n",
            "Requirement already satisfied: smart-open<6.0.0,>=5.2.1 in /usr/local/lib/python3.7/dist-packages (from pathy>=0.3.5->spacy<3.5.0,>=3.4.0->ru-core-news-lg==3.4.0) (5.2.1)\n",
            "Requirement already satisfied: urllib3!=1.25.0,!=1.25.1,<1.26,>=1.21.1 in /usr/local/lib/python3.7/dist-packages (from requests<3.0.0,>=2.13.0->spacy<3.5.0,>=3.4.0->ru-core-news-lg==3.4.0) (1.24.3)\n",
            "Requirement already satisfied: chardet<4,>=3.0.2 in /usr/local/lib/python3.7/dist-packages (from requests<3.0.0,>=2.13.0->spacy<3.5.0,>=3.4.0->ru-core-news-lg==3.4.0) (3.0.4)\n",
            "Requirement already satisfied: idna<3,>=2.5 in /usr/local/lib/python3.7/dist-packages (from requests<3.0.0,>=2.13.0->spacy<3.5.0,>=3.4.0->ru-core-news-lg==3.4.0) (2.10)\n",
            "Requirement already satisfied: certifi>=2017.4.17 in /usr/local/lib/python3.7/dist-packages (from requests<3.0.0,>=2.13.0->spacy<3.5.0,>=3.4.0->ru-core-news-lg==3.4.0) (2022.6.15)\n",
            "Requirement already satisfied: blis<0.8.0,>=0.7.8 in /usr/local/lib/python3.7/dist-packages (from thinc<8.2.0,>=8.1.0->spacy<3.5.0,>=3.4.0->ru-core-news-lg==3.4.0) (0.7.8)\n",
            "Requirement already satisfied: click<9.0.0,>=7.1.1 in /usr/local/lib/python3.7/dist-packages (from typer<0.5.0,>=0.3.0->spacy<3.5.0,>=3.4.0->ru-core-news-lg==3.4.0) (7.1.2)\n",
            "Requirement already satisfied: MarkupSafe>=0.23 in /usr/local/lib/python3.7/dist-packages (from jinja2->spacy<3.5.0,>=3.4.0->ru-core-news-lg==3.4.0) (2.0.1)\n",
            "Building wheels for collected packages: docopt\n",
            "  Building wheel for docopt (setup.py) ... \u001b[?25l\u001b[?25hdone\n",
            "  Created wheel for docopt: filename=docopt-0.6.2-py2.py3-none-any.whl size=13723 sha256=891b717008af9393d8002f106a63ff82373eeb749263e080c1708293c105a3b4\n",
            "  Stored in directory: /root/.cache/pip/wheels/72/b0/3f/1d95f96ff986c7dfffe46ce2be4062f38ebd04b506c77c81b9\n",
            "Successfully built docopt\n",
            "Installing collected packages: pymorphy2-dicts-ru, docopt, dawg-python, pymorphy2, ru-core-news-lg\n",
            "Successfully installed dawg-python-0.7.2 docopt-0.6.2 pymorphy2-0.9.1 pymorphy2-dicts-ru-2.4.417127.4579844 ru-core-news-lg-3.4.0\n",
            "\u001b[38;5;2m✔ Download and installation successful\u001b[0m\n",
            "You can now load the package via spacy.load('ru_core_news_lg')\n"
          ]
        }
      ]
    },
    {
      "cell_type": "code",
      "execution_count": 20,
      "id": "d5ed00c7",
      "metadata": {
        "id": "d5ed00c7"
      },
      "outputs": [],
      "source": [
        "nlp = spacy.load('ru_core_news_lg')"
      ]
    },
    {
      "cell_type": "code",
      "execution_count": 21,
      "id": "7a09676f",
      "metadata": {
        "id": "7a09676f"
      },
      "outputs": [],
      "source": [
        "#train_data = df.snippet.values.tolist()\n",
        "train_labels = df.intent.values.tolist()"
      ]
    },
    {
      "cell_type": "code",
      "execution_count": 22,
      "id": "d4f95eac",
      "metadata": {
        "id": "d4f95eac"
      },
      "outputs": [],
      "source": [
        "train_data = []\n",
        "for word in df.snippet.values.tolist():\n",
        "    word = word.lower()\n",
        "    word = \"\".join([ch for ch in word if ch not in string.punctuation])\n",
        "    word = word[1:]\n",
        "    train_data.append(word)"
      ]
    },
    {
      "cell_type": "code",
      "execution_count": 23,
      "id": "275b6e34",
      "metadata": {
        "id": "275b6e34"
      },
      "outputs": [],
      "source": [
        "def encode_sentences(sentences):\n",
        "    n_sentences = len(sentences)\n",
        "    X = np.zeros((n_sentences, nlp.vocab.vectors_length))\n",
        "\n",
        "    for idx, sentence in enumerate(sentences):\n",
        "        doc = nlp(sentence)\n",
        "        X[idx, :] = doc.vector\n",
        "    return X\n",
        "\n",
        "train_X = encode_sentences(train_data)"
      ]
    },
    {
      "cell_type": "code",
      "execution_count": 24,
      "id": "cc743c4c",
      "metadata": {
        "id": "cc743c4c"
      },
      "outputs": [],
      "source": [
        "from sklearn.preprocessing import LabelEncoder\n",
        "\n",
        "le = LabelEncoder()\n",
        "\n",
        "labels_train = le.fit_transform(train_labels)"
      ]
    },
    {
      "cell_type": "code",
      "execution_count": 25,
      "id": "8cc65755",
      "metadata": {
        "colab": {
          "base_uri": "https://localhost:8080/"
        },
        "id": "8cc65755",
        "outputId": "083fb18a-bde6-4319-c289-d2aa4b62651a"
      },
      "outputs": [
        {
          "output_type": "stream",
          "name": "stdout",
          "text": [
            "CPU times: user 2.54 s, sys: 2.35 ms, total: 2.54 s\n",
            "Wall time: 2.54 s\n"
          ]
        },
        {
          "output_type": "execute_result",
          "data": {
            "text/plain": [
              "SVC(C=1, kernel='linear', probability=True)"
            ]
          },
          "metadata": {},
          "execution_count": 25
        }
      ],
      "source": [
        "%%time\n",
        "from sklearn.svm import SVC\n",
        "clf = SVC(C=1, kernel='linear', probability=True)\n",
        "clf.fit(train_X, labels_train)"
      ]
    },
    {
      "cell_type": "code",
      "execution_count": 43,
      "id": "40efd2b8",
      "metadata": {
        "colab": {
          "base_uri": "https://localhost:8080/"
        },
        "id": "40efd2b8",
        "outputId": "9c2152b2-42c4-4924-99b4-3318b7714974"
      },
      "outputs": [
        {
          "output_type": "stream",
          "name": "stdout",
          "text": [
            "              precision    recall  f1-score   support\n",
            "\n",
            "           0       1.00      1.00      1.00       110\n",
            "           1       1.00      1.00      1.00         5\n",
            "           2       0.98      0.93      0.96        46\n",
            "           3       1.00      0.90      0.95        41\n",
            "           4       1.00      0.85      0.92        13\n",
            "           5       1.00      0.90      0.95        40\n",
            "           6       1.00      0.93      0.96        44\n",
            "           7       1.00      1.00      1.00        19\n",
            "           8       0.98      1.00      0.99        58\n",
            "           9       1.00      1.00      1.00        21\n",
            "          10       0.92      0.79      0.85        29\n",
            "          11       1.00      0.65      0.79        26\n",
            "          12       1.00      1.00      1.00        11\n",
            "          13       0.99      1.00      0.99        72\n",
            "          14       1.00      1.00      1.00        30\n",
            "          15       0.88      1.00      0.93        14\n",
            "          16       1.00      1.00      1.00        16\n",
            "          17       0.97      0.95      0.96        39\n",
            "          18       1.00      1.00      1.00        91\n",
            "          19       1.00      1.00      1.00        13\n",
            "          20       1.00      1.00      1.00        24\n",
            "          21       0.99      0.99      0.99        70\n",
            "          22       1.00      1.00      1.00        49\n",
            "          23       1.00      0.94      0.97        16\n",
            "          24       1.00      0.99      0.99        83\n",
            "          25       0.98      1.00      0.99       130\n",
            "          26       1.00      1.00      1.00        32\n",
            "          27       0.53      0.98      0.69        47\n",
            "          28       1.00      1.00      1.00        20\n",
            "          29       1.00      0.83      0.91         6\n",
            "          30       0.86      0.92      0.89        13\n",
            "          31       1.00      1.00      1.00        22\n",
            "          32       1.00      1.00      1.00        14\n",
            "          33       1.00      1.00      1.00        31\n",
            "          34       1.00      0.93      0.96        14\n",
            "          35       1.00      1.00      1.00        56\n",
            "          36       1.00      1.00      1.00        30\n",
            "          37       1.00      1.00      1.00        23\n",
            "          38       1.00      1.00      1.00        41\n",
            "          39       1.00      1.00      1.00        36\n",
            "          40       1.00      0.97      0.98        29\n",
            "          41       0.95      0.98      0.97        43\n",
            "          42       1.00      0.97      0.98        30\n",
            "          43       0.95      0.94      0.94        81\n",
            "          44       0.92      0.96      0.94        25\n",
            "          45       0.85      0.91      0.88       101\n",
            "          46       0.70      0.13      0.23        52\n",
            "          47       1.00      0.90      0.95        10\n",
            "          48       1.00      0.98      0.99        42\n",
            "          49       1.00      0.92      0.96        24\n",
            "          50       0.70      0.90      0.79       105\n",
            "          51       0.97      0.97      0.97        29\n",
            "          52       1.00      0.93      0.97        15\n",
            "          53       0.86      0.75      0.80         8\n",
            "\n",
            "    accuracy                           0.94      2089\n",
            "   macro avg       0.96      0.94      0.94      2089\n",
            "weighted avg       0.95      0.94      0.94      2089\n",
            "\n"
          ]
        }
      ],
      "source": [
        "from sklearn.metrics import classification_report\n",
        "y_true, y_pred = labels_train, clf.predict(train_X)\n",
        "print(classification_report(y_true, y_pred))"
      ]
    },
    {
      "cell_type": "code",
      "execution_count": 27,
      "id": "6194ea3c",
      "metadata": {
        "id": "6194ea3c"
      },
      "outputs": [],
      "source": [
        "v = encode_sentences(['привет'])"
      ]
    },
    {
      "cell_type": "code",
      "source": [
        "%%time\n",
        "list_of_prob = clf.predict_proba(v).tolist()[0]\n",
        "\n",
        "list_of_prob.sort(reverse=True)\n",
        "top_3_index = list_of_prob[:3]\n",
        "top_3_scores = [clf.predict_proba(v).tolist()[0].index(i) for i in top_3_index]\n",
        "intents = le.inverse_transform(clf.classes_)[top_3_scores]\n",
        "\n",
        "intents.tolist(), top_3_index"
      ],
      "metadata": {
        "colab": {
          "base_uri": "https://localhost:8080/"
        },
        "id": "0cUfQnK5ayHx",
        "outputId": "d9d28144-0eec-4463-d4d7-bdc9882943ee"
      },
      "id": "0cUfQnK5ayHx",
      "execution_count": 28,
      "outputs": [
        {
          "output_type": "stream",
          "name": "stdout",
          "text": [
            "CPU times: user 6.7 ms, sys: 38 µs, total: 6.74 ms\n",
            "Wall time: 7.44 ms\n"
          ]
        },
        {
          "output_type": "execute_result",
          "data": {
            "text/plain": [
              "(['Hello', 'Thank_you', 'smalltalk_greetings_nice_to_see_you'],\n",
              " [0.5756852734932107, 0.12016889578481502, 0.027937761946051354])"
            ]
          },
          "metadata": {},
          "execution_count": 28
        }
      ]
    },
    {
      "cell_type": "code",
      "source": [
        "intents = le.inverse_transform(clf.classes_).tolist()\n",
        "intents"
      ],
      "metadata": {
        "colab": {
          "base_uri": "https://localhost:8080/"
        },
        "id": "5t5GnQf3tX0b",
        "outputId": "13186f6c-ef98-4890-a535-26293b20499d"
      },
      "id": "5t5GnQf3tX0b",
      "execution_count": 29,
      "outputs": [
        {
          "output_type": "execute_result",
          "data": {
            "text/plain": [
              "['Another_joke',\n",
              " 'AreYouHere',\n",
              " 'Bad_joke',\n",
              " 'Compliment',\n",
              " 'Dont_understand',\n",
              " 'Finish',\n",
              " 'Hello',\n",
              " 'I_can_help',\n",
              " 'Messing_up',\n",
              " 'Name',\n",
              " 'Negative_reaction',\n",
              " 'Positive-reaction',\n",
              " 'Question',\n",
              " 'Sick_of_listeting',\n",
              " 'Small_talk_age',\n",
              " 'Small_talk_bad_mood',\n",
              " 'Small_talk_be_clever',\n",
              " 'Small_talk_boring',\n",
              " 'Small_talk_boss',\n",
              " 'Small_talk_busy',\n",
              " 'Small_talk_chatbot',\n",
              " 'Small_talk_creators',\n",
              " 'Small_talk_danger',\n",
              " 'Small_talk_film',\n",
              " 'Small_talk_fired',\n",
              " 'Small_talk_food',\n",
              " 'Small_talk_good_mood',\n",
              " 'Small_talk_haha',\n",
              " 'Small_talk_hobby',\n",
              " 'Small_talk_hungry',\n",
              " 'Small_talk_joke',\n",
              " 'Small_talk_lets_talk',\n",
              " 'Small_talk_life',\n",
              " 'Small_talk_love',\n",
              " 'Small_talk_music',\n",
              " 'Small_talk_relationships',\n",
              " 'Small_talk_residence',\n",
              " 'Small_talk_technology',\n",
              " 'Small_talk_ugly',\n",
              " 'Small_talk_user_angry',\n",
              " 'Small_talk_user_sad',\n",
              " 'Small_talk_what-what',\n",
              " 'Small_talk_work',\n",
              " 'Small_talk_you_are_right',\n",
              " 'Small_talkt_wait',\n",
              " 'Smalltalk_answer',\n",
              " 'Sorry',\n",
              " 'Tell_about_you',\n",
              " 'Tell_joke',\n",
              " 'Thank_you',\n",
              " 'Whoops',\n",
              " 'You_are',\n",
              " 'smalltalk_greetings_nice_to_see_you',\n",
              " 'smalltalk_user_will_be_back']"
            ]
          },
          "metadata": {},
          "execution_count": 29
        }
      ]
    },
    {
      "cell_type": "code",
      "execution_count": 30,
      "id": "2e224d04",
      "metadata": {
        "id": "2e224d04"
      },
      "outputs": [],
      "source": [
        "# filename = 'SVC.sav'\n",
        "# pickle.dump(clf, open(filename, 'wb'))"
      ]
    },
    {
      "cell_type": "code",
      "execution_count": 31,
      "id": "dbb86a14",
      "metadata": {
        "id": "dbb86a14"
      },
      "outputs": [],
      "source": [
        "# model = pickle.load(open(filename, 'rb'))"
      ]
    },
    {
      "cell_type": "code",
      "execution_count": 32,
      "id": "de1d5977",
      "metadata": {
        "id": "de1d5977"
      },
      "outputs": [],
      "source": [
        "# list_of_prob = model.predict_proba(v).tolist()[0]\n",
        "# list_of_prob.sort(reverse=True)\n",
        "# top_3_index = list_of_prob[:3]\n",
        "# top_3_scores = [model.predict_proba(v).tolist()[0].index(i) for i in top_3_index]"
      ]
    },
    {
      "cell_type": "code",
      "execution_count": 33,
      "id": "eff3954d",
      "metadata": {
        "id": "eff3954d"
      },
      "outputs": [],
      "source": [
        "# intents = le.inverse_transform(clf.classes_)[top_3_scores]"
      ]
    },
    {
      "cell_type": "code",
      "execution_count": 34,
      "id": "02e64e7c",
      "metadata": {
        "id": "02e64e7c"
      },
      "outputs": [],
      "source": [
        "# intents.tolist(), top_3_index"
      ]
    },
    {
      "cell_type": "code",
      "source": [
        "# with open('intents.txt', 'w') as file:\n",
        "#   for intent in intents:\n",
        "#     file.write(intent + \"\\n\")"
      ],
      "metadata": {
        "id": "uZES0AsveS5P"
      },
      "id": "uZES0AsveS5P",
      "execution_count": 35,
      "outputs": []
    },
    {
      "cell_type": "markdown",
      "source": [
        "Метрики: classification_report\n",
        "\n",
        "Время обучения: CPU times: user 3.54 s, sys: 16 ms, total: 3.56 s Wall time: 5.24 s\n",
        "\n",
        "Скорость вывода модели: CPU times: user 6.3 ms, sys: 0 ns, total: 6.3 ms\n",
        "Wall time: 10.1 ms для фразы 'привет'\n",
        "\n",
        "Объём памяти, необходимый для обучения: -\n",
        "\n",
        "Объём памяти вывода модели: -\n",
        "\n",
        "Объём памяти для хранения модели: 4,99 МБ (5 237 605 байт)\n"
      ],
      "metadata": {
        "id": "GM8O2p38aBw4"
      },
      "id": "GM8O2p38aBw4"
    },
    {
      "cell_type": "code",
      "source": [],
      "metadata": {
        "id": "dTsFqWBGwMO0"
      },
      "id": "dTsFqWBGwMO0",
      "execution_count": null,
      "outputs": []
    }
  ],
  "metadata": {
    "kernelspec": {
      "display_name": "Python 3 (ipykernel)",
      "language": "python",
      "name": "python3"
    },
    "language_info": {
      "codemirror_mode": {
        "name": "ipython",
        "version": 3
      },
      "file_extension": ".py",
      "mimetype": "text/x-python",
      "name": "python",
      "nbconvert_exporter": "python",
      "pygments_lexer": "ipython3",
      "version": "3.9.12"
    },
    "colab": {
      "provenance": [],
      "collapsed_sections": []
    }
  },
  "nbformat": 4,
  "nbformat_minor": 5
}